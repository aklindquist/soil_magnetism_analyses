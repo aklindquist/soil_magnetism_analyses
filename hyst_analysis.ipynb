{
 "cells": [
  {
   "cell_type": "code",
   "execution_count": 1,
   "metadata": {},
   "outputs": [
    {
     "data": {
      "text/html": [
       "<div>\n",
       "<style scoped>\n",
       "    .dataframe tbody tr th:only-of-type {\n",
       "        vertical-align: middle;\n",
       "    }\n",
       "\n",
       "    .dataframe tbody tr th {\n",
       "        vertical-align: top;\n",
       "    }\n",
       "\n",
       "    .dataframe thead th {\n",
       "        text-align: right;\n",
       "    }\n",
       "</style>\n",
       "<table border=\"1\" class=\"dataframe\">\n",
       "  <thead>\n",
       "    <tr style=\"text-align: right;\">\n",
       "      <th></th>\n",
       "      <th>field</th>\n",
       "      <th>moment</th>\n",
       "    </tr>\n",
       "  </thead>\n",
       "  <tbody>\n",
       "    <tr>\n",
       "      <th>0</th>\n",
       "      <td>1.000028</td>\n",
       "      <td>0.000053</td>\n",
       "    </tr>\n",
       "    <tr>\n",
       "      <th>1</th>\n",
       "      <td>0.980100</td>\n",
       "      <td>0.000053</td>\n",
       "    </tr>\n",
       "    <tr>\n",
       "      <th>2</th>\n",
       "      <td>0.960586</td>\n",
       "      <td>0.000053</td>\n",
       "    </tr>\n",
       "    <tr>\n",
       "      <th>3</th>\n",
       "      <td>0.941451</td>\n",
       "      <td>0.000052</td>\n",
       "    </tr>\n",
       "  </tbody>\n",
       "</table>\n",
       "</div>"
      ],
      "text/plain": [
       "      field    moment\n",
       "0  1.000028  0.000053\n",
       "1  0.980100  0.000053\n",
       "2  0.960586  0.000053\n",
       "3  0.941451  0.000052"
      ]
     },
     "execution_count": 1,
     "metadata": {},
     "output_type": "execute_result"
    }
   ],
   "source": [
    "import pandas as pd\n",
    "import matplotlib.pyplot as plt\n",
    "import numpy as np\n",
    "from sklearn.linear_model import LinearRegression\n",
    "hyst = pd.read_csv(\"C:\\\\Users\\\\alindqu1\\\\Desktop\\\\hyst\\\\scd1h.csv\") #input file name here\n",
    "bkf = pd.read_csv(\"C:\\\\Users\\\\alindqu1\\\\Desktop\\\\bkf1.csv\") #input file name here\n",
    "hyst.head(4)"
   ]
  },
  {
   "cell_type": "code",
   "execution_count": 2,
   "metadata": {},
   "outputs": [
    {
     "data": {
      "text/plain": [
       "[<matplotlib.lines.Line2D at 0x16ab3f86160>]"
      ]
     },
     "execution_count": 2,
     "metadata": {},
     "output_type": "execute_result"
    },
    {
     "data": {
      "image/png": "[encoded data removed]",
      "text/plain": [
       "<matplotlib.figure.Figure at 0x16ab3c3f2e8>"
      ]
     },
     "metadata": {},
     "output_type": "display_data"
    }
   ],
   "source": [
    "plt.axvline(x=0,color='#999999')\n",
    "plt.axhline(y=0,color='#999999')\n",
    "plt.plot(hyst.field,hyst.moment,color='#000000')"
   ]
  },
  {
   "cell_type": "code",
   "execution_count": 3,
   "metadata": {},
   "outputs": [
    {
     "name": "stdout",
     "output_type": "stream",
     "text": [
      "upper fit: y = [9.5958219e-06] x + [4.35040964e-05]\n"
     ]
    }
   ],
   "source": [
    "upper = 0.9*(hyst.moment[0]) #determine which values to use to fit uppper line\n",
    "n = 0\n",
    "while hyst.moment[n] > upper: #determine which lower bound of data set for fitting line\n",
    "    n = n + 1\n",
    "limup = n\n",
    "#print(limup, hyst.moment[limup]) #uncomment to print values\n",
    "\n",
    "hystmatrix = np.matrix(hyst) #make data a matrix for fitting a linear regression\n",
    "\n",
    "X, Y = hystmatrix[0:limup,0], hystmatrix[0:limup,1]\n",
    "fitupper = LinearRegression().fit(X,Y)\n",
    "m_upper = fitupper.coef_[0]\n",
    "b_upper = fitupper.intercept_\n",
    "print('upper fit: y =', m_upper, 'x +', b_upper)"
   ]
  },
  {
   "cell_type": "code",
   "execution_count": 19,
   "metadata": {},
   "outputs": [
    {
     "name": "stdout",
     "output_type": "stream",
     "text": [
      "lower fit: y = [9.4562978e-06] x + [-4.34356034e-05]\n"
     ]
    }
   ],
   "source": [
    "min = int(len(hyst)/2)\n",
    "#print(min)\n",
    "\n",
    "lower = 0.9*hyst.moment[min] #determine value for bounds on lower data to fit\n",
    "\n",
    "n = 0 \n",
    "while hyst.moment[n] > lower: #find which two indices include needed data\n",
    "    n = n + 1\n",
    "bound1 = n\n",
    "\n",
    "m = min+10\n",
    "while hyst.moment[m] < lower:\n",
    "    m = m + 1\n",
    "bound2 = m\n",
    "\n",
    "X, Y = hystmatrix[bound1:bound2,0], hystmatrix[bound1:bound2,1]\n",
    "fitlower = LinearRegression().fit(X,Y)\n",
    "m_lower = fitlower.coef_[0]\n",
    "b_lower = fitlower.intercept_\n",
    "print('lower fit: y =', m_lower, 'x +', b_lower)"
   ]
  },
  {
   "cell_type": "code",
   "execution_count": 20,
   "metadata": {},
   "outputs": [
    {
     "name": "stdout",
     "output_type": "stream",
     "text": [
      "slope for correction = 9.526059853294314e-06 , vertical adjust = 3.424649832236415e-08\n"
     ]
    }
   ],
   "source": [
    "m_upper = float(m_upper) #make slopes and intercepts floats\n",
    "m_lower = float(m_lower)\n",
    "b_upper = float(b_upper)\n",
    "b_lower = float(b_lower)\n",
    "m_new = (m_upper+m_lower)/2 #mean to find slope for whole data set\n",
    "b_new = (b_upper + b_lower)*(0.5) #find value to adjust vertical shift\n",
    "print('slope for correction =', m_new,', vertical adjust =', b_new)"
   ]
  },
  {
   "cell_type": "code",
   "execution_count": 30,
   "metadata": {},
   "outputs": [
    {
     "data": {
      "text/plain": [
       "[<matplotlib.lines.Line2D at 0x2bd2a4be9b0>]"
      ]
     },
     "execution_count": 30,
     "metadata": {},
     "output_type": "execute_result"
    },
    {
     "data": {
      "image/png": "[encoded data removed]",
      "text/plain": [
       "<matplotlib.figure.Figure at 0x2bd2a46e4a8>"
      ]
     },
     "metadata": {},
     "output_type": "display_data"
    }
   ],
   "source": [
    "hyst.moment2 = hyst.moment-(m_new*hyst.field)-b_new\n",
    "plt.axvline(x=0,color='#999999')\n",
    "plt.axhline(y=0,color='#999999')\n",
    "plt.plot(hyst.field,hyst.moment2,color='#000066')\n",
    "\n",
    "\n",
    "#hystmatrix = np.matrix(hyst) #make data a matrix for fitting a linear regression\n",
    "#pd.DataFrame({'field':[hyst.field[0]], 'moment':[hyst.moment[0]]})"
   ]
  },
  {
   "cell_type": "code",
   "execution_count": 22,
   "metadata": {},
   "outputs": [
    {
     "name": "stdout",
     "output_type": "stream",
     "text": [
      "-0.008495988803004952 0.008757441791809682\n",
      "sample coercivity = 0.008626715297407318\n"
     ]
    }
   ],
   "source": [
    "#find un-corrected Hc values by fitting slope to line defined by points above and below the x-intercept\n",
    "for i in range(0,len(hyst)-1):\n",
    "    if hyst.moment[i] > 0 and hyst.moment[i+1] < 0:\n",
    "        hc1 = hyst.field[i] - (((hyst.field[i+1]-hyst.field[i])/(hyst.moment[i+1]-hyst.moment[i]))*hyst.moment[i])\n",
    "    elif hyst.moment[i] < 0 and hyst.moment[i+1] > 0:\n",
    "        hc2 = hyst.field[i] - (((hyst.field[i+1]-hyst.field[i])/(hyst.moment[i+1]-hyst.moment[i]))*hyst.moment[i])\n",
    "    else:\n",
    "        i = i+1\n",
    "\n",
    "hc = abs(hc1-(hc1+hc2)*0.5) #find coercivity of sample\n",
    "print(hc1,hc2)\n",
    "#new x values should = x_original-0.5*(hc1+hc2)\n",
    "print('sample coercivity =', hc)\n",
    "\n",
    "#still need to correct the x values"
   ]
  },
  {
   "cell_type": "code",
   "execution_count": 1,
   "metadata": {},
   "outputs": [
    {
     "ename": "NameError",
     "evalue": "name 'hyst' is not defined",
     "output_type": "error",
     "traceback": [
      "\u001b[1;31m---------------------------------------------------------------------------\u001b[0m",
      "\u001b[1;31mNameError\u001b[0m                                 Traceback (most recent call last)",
      "\u001b[1;32m<ipython-input-1-4fcc258fb8fc>\u001b[0m in \u001b[0;36m<module>\u001b[1;34m()\u001b[0m\n\u001b[1;32m----> 1\u001b[1;33m \u001b[0mhyst\u001b[0m\u001b[1;33m.\u001b[0m\u001b[0mfield2\u001b[0m \u001b[1;33m=\u001b[0m \u001b[0mhyst\u001b[0m\u001b[1;33m.\u001b[0m\u001b[0mfield\u001b[0m \u001b[1;33m-\u001b[0m \u001b[1;33m(\u001b[0m\u001b[1;36m0.5\u001b[0m\u001b[1;33m)\u001b[0m\u001b[1;33m*\u001b[0m\u001b[1;33m(\u001b[0m\u001b[0mhc1\u001b[0m\u001b[1;33m+\u001b[0m\u001b[0mhc2\u001b[0m\u001b[1;33m)\u001b[0m\u001b[1;33m\u001b[0m\u001b[0m\n\u001b[0m\u001b[0;32m      2\u001b[0m \u001b[0mplt\u001b[0m\u001b[1;33m.\u001b[0m\u001b[0mfigure\u001b[0m\u001b[1;33m(\u001b[0m\u001b[1;33m)\u001b[0m\u001b[1;33m\u001b[0m\u001b[0m\n\u001b[0;32m      3\u001b[0m \u001b[0mplt\u001b[0m\u001b[1;33m.\u001b[0m\u001b[0maxvline\u001b[0m\u001b[1;33m(\u001b[0m\u001b[0mx\u001b[0m\u001b[1;33m=\u001b[0m\u001b[1;36m0\u001b[0m\u001b[1;33m,\u001b[0m\u001b[0mcolor\u001b[0m\u001b[1;33m=\u001b[0m\u001b[1;34m'#999999'\u001b[0m\u001b[1;33m)\u001b[0m\u001b[1;33m\u001b[0m\u001b[0m\n\u001b[0;32m      4\u001b[0m \u001b[0mplt\u001b[0m\u001b[1;33m.\u001b[0m\u001b[0maxhline\u001b[0m\u001b[1;33m(\u001b[0m\u001b[0my\u001b[0m\u001b[1;33m=\u001b[0m\u001b[1;36m0\u001b[0m\u001b[1;33m,\u001b[0m\u001b[0mcolor\u001b[0m\u001b[1;33m=\u001b[0m\u001b[1;34m'#999999'\u001b[0m\u001b[1;33m)\u001b[0m\u001b[1;33m\u001b[0m\u001b[0m\n\u001b[0;32m      5\u001b[0m \u001b[0mplt\u001b[0m\u001b[1;33m.\u001b[0m\u001b[0mplot\u001b[0m\u001b[1;33m(\u001b[0m\u001b[0mhyst\u001b[0m\u001b[1;33m.\u001b[0m\u001b[0mfield\u001b[0m\u001b[1;33m,\u001b[0m\u001b[1;33m(\u001b[0m\u001b[0mhyst\u001b[0m\u001b[1;33m.\u001b[0m\u001b[0mmoment\u001b[0m\u001b[1;33m)\u001b[0m\u001b[1;33m,\u001b[0m\u001b[0mcolor\u001b[0m\u001b[1;33m=\u001b[0m\u001b[1;34m'#AFEEEE'\u001b[0m\u001b[1;33m)\u001b[0m\u001b[1;33m\u001b[0m\u001b[0m\n",
      "\u001b[1;31mNameError\u001b[0m: name 'hyst' is not defined"
     ]
    }
   ],
   "source": [
    "hyst.field2 = hyst.field - (0.5)*(hc1+hc2)\n",
    "plt.axvline(x=0,color='#999999')\n",
    "plt.axhline(y=0,color='#999999')\n",
    "plt.plot(hyst.field,(hyst.moment),color='#AFEEEE')\n",
    "plt.plot(hyst.field2,(hyst.moment2),color='#000000')\n",
    "plt.xlabel('field (T)')\n",
    "plt.ylabel('magnetic moment (Am2)')"
   ]
  },
  {
   "cell_type": "code",
   "execution_count": 84,
   "metadata": {},
   "outputs": [],
   "source": [
    "#adj=pd.merge(hyst.field2, hyst.moment2, on='')\n",
    "#print(adj)\n",
    "#still would like to combine into single output"
   ]
  },
  {
   "cell_type": "code",
   "execution_count": 31,
   "metadata": {},
   "outputs": [],
   "source": [
    "for i in range(0,len(hyst)-1): #find remanence (Mr)\n",
    "    if hyst.field[i] > 0 and hyst.field[i+1] < 0:\n",
    "        mr = hyst.moment[i]-(((hyst.moment[i+1]-hyst.moment[i])/(hyst.field[i+1]-hyst.field[i]))*hyst.field[i])\n",
    "    else:\n",
    "        i = i+1"
   ]
  },
  {
   "cell_type": "code",
   "execution_count": 32,
   "metadata": {},
   "outputs": [
    {
     "data": {
      "image/png": "[encoded data removed]",
      "text/plain": [
       "<matplotlib.figure.Figure at 0x2bd2944b630>"
      ]
     },
     "metadata": {},
     "output_type": "display_data"
    }
   ],
   "source": [
    "plt.plot(bkf.backfield,bkf.backrem)\n",
    "\n",
    "for i in range(0,len(bkf)-1):\n",
    "    if bkf.backrem[i] > 0 and bkf.backrem[i+1] < 0:\n",
    "        hcr = bkf.backfield[i] - ((bkf.backfield[i+1]-bkf.backfield[i])/(bkf.backrem[i+1]-bkf.backrem[i])*bkf.backrem[i])\n",
    "        i = i + 1\n",
    "    else:\n",
    "        i = i + 1\n",
    "\n",
    "hcr = hcr*(-1)"
   ]
  },
  {
   "cell_type": "code",
   "execution_count": 33,
   "metadata": {},
   "outputs": [
    {
     "name": "stdout",
     "output_type": "stream",
     "text": [
      "Ms = 5.2876809999999996e-05 Am2\n",
      "Mr = 3.830491544185738e-06 Am2\n",
      "Hc = 0.008626715297407318 T\n",
      "Hcr = 0.03060408022418471 T\n"
     ]
    }
   ],
   "source": [
    "ms = hyst.moment[0]\n",
    "print('Ms =',ms,'Am2')\n",
    "print('Mr =', mr, 'Am2')\n",
    "print('Hc =', hc, 'T')\n",
    "print('Hcr =', hcr, 'T')"
   ]
  },
  {
   "cell_type": "code",
   "execution_count": 35,
   "metadata": {},
   "outputs": [
    {
     "data": {
      "text/plain": [
       "Text(0.5,0,'Hcr/Hc')"
      ]
     },
     "execution_count": 35,
     "metadata": {},
     "output_type": "execute_result"
    },
    {
     "data": {
      "image/png": "[encoded data removed]",
      "text/plain": [
       "<matplotlib.figure.Figure at 0x2bd292db550>"
      ]
     },
     "metadata": {},
     "output_type": "display_data"
    }
   ],
   "source": [
    "plt.plot((hcr/hc),(mr/ms), 'or')\n",
    "plt.axvline(x=2,color='#000000')\n",
    "plt.axvline(x=5,color='#000000')\n",
    "plt.axhline(y=0.02,color='#000000')\n",
    "plt.axhline(y=0.5,color='#000000')\n",
    "plt.ylim([0,1])\n",
    "plt.xlim([0,8])\n",
    "plt.ylabel('Mr/Ms')\n",
    "plt.xlabel('Hcr/Hc')\n"
   ]
  },
  {
   "cell_type": "code",
   "execution_count": null,
   "metadata": {},
   "outputs": [],
   "source": []
  },
  {
   "cell_type": "code",
   "execution_count": null,
   "metadata": {
    "scrolled": true
   },
   "outputs": [],
   "source": []
  }
 ],
 "metadata": {
  "kernelspec": {
   "display_name": "Python 3",
   "language": "python",
   "name": "python3"
  },
  "language_info": {
   "codemirror_mode": {
    "name": "ipython",
    "version": 3
   },
   "file_extension": ".py",
   "mimetype": "text/x-python",
   "name": "python",
   "nbconvert_exporter": "python",
   "pygments_lexer": "ipython3",
   "version": "3.8.5"
  }
 },
 "nbformat": 4,
 "nbformat_minor": 2
}
